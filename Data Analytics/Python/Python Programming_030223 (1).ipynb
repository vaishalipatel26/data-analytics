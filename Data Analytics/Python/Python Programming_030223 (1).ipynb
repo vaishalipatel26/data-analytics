{
 "cells": [
  {
   "cell_type": "markdown",
   "id": "71b0ced6",
   "metadata": {},
   "source": [
    "# Introduction to Python"
   ]
  },
  {
   "cell_type": "code",
   "execution_count": null,
   "id": "5ab2b339",
   "metadata": {},
   "outputs": [],
   "source": [
    "s1 = 'python '\n",
    "s2 = 'programming'\n",
    "print('concatenation:',s1 + s2)"
   ]
  },
  {
   "cell_type": "code",
   "execution_count": null,
   "id": "6a130653",
   "metadata": {},
   "outputs": [],
   "source": [
    "# print('Hello \"All\" ')\n",
    "#print(\"Hello World !!\")\n",
    "#print('Hello All')\n",
    "#print(\"Hello 'All'\")\n",
    "print('Hello \\n All')"
   ]
  },
  {
   "cell_type": "code",
   "execution_count": null,
   "id": "f50c0bc6",
   "metadata": {},
   "outputs": [],
   "source": [
    "a = 10.4\n",
    "print(type(a))"
   ]
  },
  {
   "cell_type": "code",
   "execution_count": null,
   "id": "267b32d1",
   "metadata": {},
   "outputs": [],
   "source": [
    "a = 10\n",
    "b = 20.2\n",
    "c = 'hello'\n",
    "print(a,b,c)"
   ]
  },
  {
   "cell_type": "markdown",
   "id": "6859b282",
   "metadata": {},
   "source": [
    "## Arithematic Operator"
   ]
  },
  {
   "cell_type": "code",
   "execution_count": null,
   "id": "eca91efc",
   "metadata": {},
   "outputs": [],
   "source": [
    "a,b = 5,2\n",
    "print('a+b:',a+b)\n",
    "print('a-b:',a-b)\n",
    "print('a*b:',a*b)\n",
    "print('a/b:',a/b) # divide\n",
    "print('a//b:',a//b) # int quotient\n",
    "print('a%b:',a%b) # modulo for remainder\n",
    "print('a**b:',a**b) # a^b"
   ]
  },
  {
   "cell_type": "markdown",
   "id": "42dd5685",
   "metadata": {},
   "source": [
    "## Comparision Operator"
   ]
  },
  {
   "cell_type": "code",
   "execution_count": null,
   "id": "81ab212c",
   "metadata": {},
   "outputs": [],
   "source": [
    "a,b = 10,20\n",
    "print('a==b:',a==b)\n",
    "print('a>b:',a>b)\n",
    "print('a<b:',a<b)\n",
    "print('a>=b:',a>=b)\n",
    "print('a<=b:',a<=b)\n",
    "print('a!=b:',a!=b)"
   ]
  },
  {
   "cell_type": "markdown",
   "id": "39c5f884",
   "metadata": {},
   "source": [
    "## Logical Operator"
   ]
  },
  {
   "cell_type": "code",
   "execution_count": null,
   "id": "3e3a7944",
   "metadata": {},
   "outputs": [],
   "source": [
    "a= 10 \n",
    "b=20\n",
    "print((a>b) or (a>10)) # logical OR\n",
    "print((a>b) and (a>10)) # logical AND"
   ]
  },
  {
   "cell_type": "markdown",
   "id": "04b56025",
   "metadata": {},
   "source": [
    "## Bitwise Operator"
   ]
  },
  {
   "cell_type": "code",
   "execution_count": null,
   "id": "feaa46de",
   "metadata": {},
   "outputs": [],
   "source": [
    "x = 11 # 1011\n",
    "y = 3 # 0011\n",
    "\n",
    "print(x & y) # and\n",
    "print(x | y) # or\n",
    "print(x << 2) # left shift\n",
    "print(x >> 2) # right shift"
   ]
  },
  {
   "cell_type": "markdown",
   "id": "29f6129d",
   "metadata": {},
   "source": [
    "## Membership Operators"
   ]
  },
  {
   "cell_type": "code",
   "execution_count": null,
   "id": "0e81d7bd",
   "metadata": {},
   "outputs": [],
   "source": [
    "# in , not in\n",
    "# to check wheather items/value/element are present or not\n",
    "a = [1,2,3,4]\n",
    "print(5 in a)"
   ]
  },
  {
   "cell_type": "code",
   "execution_count": null,
   "id": "3fa1ffca",
   "metadata": {},
   "outputs": [],
   "source": [
    "s1 = 'python'\n",
    "print(len(s1))\n",
    "print(min(s1))\n",
    "print(max(s1))\n",
    "s1.upper()\n",
    "s1.lower()"
   ]
  },
  {
   "cell_type": "code",
   "execution_count": null,
   "id": "9529425c",
   "metadata": {},
   "outputs": [],
   "source": [
    "x = 5\n",
    "y = 3\n",
    "x,y = y,x\n",
    "print(x,y)"
   ]
  },
  {
   "cell_type": "markdown",
   "id": "6ac175d3",
   "metadata": {},
   "source": [
    "## Find & Replace"
   ]
  },
  {
   "cell_type": "code",
   "execution_count": null,
   "id": "7b156ee7",
   "metadata": {},
   "outputs": [],
   "source": [
    "s1 = 'python'\n",
    "s2= 'Hi'\n",
    "print(s1.find('thon')) # to find the string\n",
    "print(s1.count('o')) # to count the number of occurence\n",
    "print(s1.replace('thon','THON')) # to repalce a string\n",
    "print(s1.find('y')) # to find the specfic location\n",
    "print(s1.count('o',0,2)) # to count in the specific range\n",
    "print(s1==s2) # to compare two string\n",
    "print()"
   ]
  },
  {
   "cell_type": "markdown",
   "id": "37fdeb52",
   "metadata": {},
   "source": [
    "## Repetition"
   ]
  },
  {
   "cell_type": "code",
   "execution_count": null,
   "id": "af7d53d3",
   "metadata": {},
   "outputs": [],
   "source": [
    "x = 'python'\n",
    "x*3"
   ]
  },
  {
   "cell_type": "code",
   "execution_count": null,
   "id": "73cb7fbf",
   "metadata": {},
   "outputs": [],
   "source": [
    "x = [2,4]\n",
    "x*2"
   ]
  },
  {
   "cell_type": "code",
   "execution_count": 8,
   "id": "f95acce1",
   "metadata": {},
   "outputs": [
    {
     "name": "stdout",
     "output_type": "stream",
     "text": [
      "16\n",
      "[9, 4, 3]\n"
     ]
    }
   ],
   "source": [
    "r = [9,4,3]\n",
    "s = [4,5]\n",
    "\n",
    "#r.extend(s) # to extend a list\n",
    "#r.append(7) # to add a element in a list\n",
    "#r.reverse() # to reverse a list\n",
    "#r.sort() # to sort a list\n",
    "#r.insert(1,10) # inserting at specific location\n",
    "print(sum(r)) # to find the sum of a list\n",
    "print(r)\n",
    "\n"
   ]
  },
  {
   "cell_type": "code",
   "execution_count": 13,
   "id": "e1b4b293",
   "metadata": {},
   "outputs": [
    {
     "name": "stdout",
     "output_type": "stream",
     "text": [
      "h\n",
      "['h', 'n', 'o', 'p', 't', 'y']\n",
      "6\n",
      "Apple\n",
      "['Apple', 'banana', 'oranges']\n",
      "3\n"
     ]
    }
   ],
   "source": [
    "x = 'python'\n",
    "print(min(x))\n",
    "print(sorted(x))\n",
    "print(len(x))\n",
    "\n",
    "y = ['oranges','banana','Apple']\n",
    "print(min(y))\n",
    "print(sorted(y))\n",
    "print(len(y))\n"
   ]
  },
  {
   "cell_type": "markdown",
   "id": "3971aaca",
   "metadata": {},
   "source": [
    "## Slicing"
   ]
  },
  {
   "cell_type": "code",
   "execution_count": 17,
   "id": "7df10375",
   "metadata": {},
   "outputs": [
    {
     "name": "stdout",
     "output_type": "stream",
     "text": [
      "Hello World!\n",
      "H\n",
      "llo\n",
      "llo World!\n",
      "He\n",
      "Hello World!Hello World!\n",
      "Hello World!TEST\n",
      "!dlroW olleH\n",
      "hello world!\n",
      "HELLO WORLD!\n"
     ]
    }
   ],
   "source": [
    "str = 'Hello World!'  # A string\n",
    "\n",
    "print(str)          # Prints complete string\n",
    "print(str[0])       # Prints first character of the string\n",
    "print(str[2:5])     # Prints characters starting from 3rd to 5th\n",
    "print(str[2:])      # Prints string starting from 3rd character\n",
    "print(str[:2])      # Prints string upto a specific range\n",
    "print(str * 2)      # Prints string two times\n",
    "print(str + \"TEST\") # Prints concatenated string\n",
    "print(str[::-1])     # Reverse a string\n",
    "print(str.lower())   # lower-case\n",
    "print(str.upper())   # upper-case"
   ]
  },
  {
   "cell_type": "code",
   "execution_count": 19,
   "id": "361080ae",
   "metadata": {},
   "outputs": [
    {
     "name": "stdout",
     "output_type": "stream",
     "text": [
      "a\n",
      "BI\n"
     ]
    }
   ],
   "source": [
    "#string\n",
    "x = 'Data Science'\n",
    "print(x[1])\n",
    "\n",
    "#list\n",
    "x = ['Full Stack','BI','Cloud']\n",
    "print(x[1])"
   ]
  },
  {
   "cell_type": "code",
   "execution_count": 22,
   "id": "0cf2c9fb",
   "metadata": {},
   "outputs": [
    {
     "name": "stdout",
     "output_type": "stream",
     "text": [
      "Full Stack\n",
      "['Full', 'Stack', 'Mean']\n"
     ]
    }
   ],
   "source": [
    "#string\n",
    "x = 'Full ' + 'Stack'\n",
    "print(x)\n",
    "\n",
    "#list\n",
    "x = ['Full', 'Stack'] + ['Mean']\n",
    "print(x)"
   ]
  },
  {
   "cell_type": "code",
   "execution_count": 25,
   "id": "15d04fca",
   "metadata": {},
   "outputs": [
    {
     "name": "stdout",
     "output_type": "stream",
     "text": [
      "Hello Hello Hello \n",
      "[2, 3, 2, 3]\n"
     ]
    }
   ],
   "source": [
    "#string\n",
    "x = 'Hello ' * 3\n",
    "print(x)\n",
    "\n",
    "#lists\n",
    "x =  ['Full', 'Stack'] * 2 \n",
    "y = ['Mean'] * 2\n",
    "print(x)"
   ]
  },
  {
   "cell_type": "code",
   "execution_count": 30,
   "id": "cb4eac5c",
   "metadata": {},
   "outputs": [
    {
     "name": "stdout",
     "output_type": "stream",
     "text": [
      "4\n",
      "6\n",
      "8\n"
     ]
    }
   ],
   "source": [
    "x = [2,3,4]\n",
    "for element in x:\n",
    "        print(element * 2)"
   ]
  },
  {
   "cell_type": "code",
   "execution_count": 31,
   "id": "1e775c1a",
   "metadata": {},
   "outputs": [
    {
     "name": "stdout",
     "output_type": "stream",
     "text": [
      "1\n",
      "['Full Stack', 'Data Science', 'BI']\n"
     ]
    }
   ],
   "source": [
    "#string\n",
    "x = 'Hello ' \n",
    "print(x.count('o'))\n",
    "\n",
    "#lists\n",
    "x =  ['Full Stack', 'Data Science','BI'] \n",
    "print(x.count('BI'))"
   ]
  },
  {
   "cell_type": "code",
   "execution_count": 32,
   "id": "6e387123",
   "metadata": {},
   "outputs": [
    {
     "name": "stdout",
     "output_type": "stream",
     "text": [
      "4\n",
      "2\n"
     ]
    }
   ],
   "source": [
    "#string\n",
    "x = 'Hello ' \n",
    "print(x.index('o'))\n",
    "\n",
    "#lists\n",
    "x =  ['Full Stack', 'Data Science','BI'] \n",
    "print(x.index('BI'))"
   ]
  },
  {
   "cell_type": "code",
   "execution_count": 36,
   "id": "69a020e8",
   "metadata": {},
   "outputs": [
    {
     "name": "stdout",
     "output_type": "stream",
     "text": [
      "Full Stack\n"
     ]
    }
   ],
   "source": [
    "x =  ['Full Stack', 'Data Science','BI'] \n",
    "x = a,b,c \n",
    "print(a)"
   ]
  },
  {
   "cell_type": "code",
   "execution_count": 37,
   "id": "3f072a7e",
   "metadata": {},
   "outputs": [
    {
     "name": "stdout",
     "output_type": "stream",
     "text": [
      "[1, 0, 2, 3, 4]\n"
     ]
    }
   ],
   "source": [
    "x = [1,2,3,4]\n",
    "x.insert(1,0)\n",
    "print(x)"
   ]
  },
  {
   "cell_type": "code",
   "execution_count": 38,
   "id": "c1afdc4f",
   "metadata": {},
   "outputs": [
    {
     "name": "stdout",
     "output_type": "stream",
     "text": [
      "{2, 3}\n"
     ]
    }
   ],
   "source": [
    "#sets (will not allow duplicate values)\n",
    "x = {2,3,2}\n",
    "print(x)"
   ]
  },
  {
   "cell_type": "code",
   "execution_count": 45,
   "id": "258d09c2",
   "metadata": {},
   "outputs": [
    {
     "data": {
      "text/plain": [
       "dict_values([8, 8.4, 7.7])"
      ]
     },
     "execution_count": 45,
     "metadata": {},
     "output_type": "execute_result"
    }
   ],
   "source": [
    "#dictionary\n",
    "x = {'Suresh':9,'Mahesh':8.4,'Naresh': 7.7,'Suresh':8}\n",
    "#x.keys()\n",
    "x.values()\n",
    "#x.items()\n",
    "del x['Suresh']\n",
    "\n"
   ]
  },
  {
   "cell_type": "code",
   "execution_count": 47,
   "id": "52a2d7f2",
   "metadata": {},
   "outputs": [
    {
     "name": "stdout",
     "output_type": "stream",
     "text": [
      "5\n",
      "2\n",
      "A\n",
      "data science\n",
      "6\n",
      "['e', 'h', 'l', 'l', 'o']\n",
      "['data science', 'full stack']\n",
      "2\n",
      "2\n",
      "2\n",
      "0\n",
      "full stack\n",
      "[1, 2, 3, 4, 5]\n",
      "[1, 0, 2, 3, 4]\n",
      "4\n",
      "[1, 2, 3]\n",
      "[2, 3]\n",
      "[3, 2, 1]\n",
      "[3, 7, 8]\n",
      "([1], 3)\n",
      "{2, 3}\n",
      "{1, 2, 3}\n",
      "{2, 3}\n",
      "set()\n",
      "{'Suresh': 9, 'Mahesh': 8.23, 'Ramesh': 7.77}\n",
      "True\n",
      "{}\n"
     ]
    }
   ],
   "source": [
    "#string\n",
    "x = 'Hello'\n",
    "print(len(x))\n",
    "\n",
    "#list\n",
    "x = ['full stack','data science']\n",
    "print(len(x))\n",
    "\n",
    "#string\n",
    "x = 'Ab'\n",
    "print(min(x))\n",
    "\n",
    "#list\n",
    "x = ['full stack','data science']\n",
    "print(min(x))\n",
    "\n",
    "\n",
    "#sum\n",
    "x=[2,2,2]\n",
    "print(sum(x))\n",
    "\n",
    "#sorting\n",
    "x= 'hello'\n",
    "print(sorted(x))\n",
    "\n",
    "x = ['full stack','data science']\n",
    "print(sorted(x))\n",
    "\n",
    "#count(item)\n",
    "x='hello'\n",
    "print(x.count('l'))\n",
    "\n",
    "x = ['data science','full stack','data science']\n",
    "print(x.count('data science'))\n",
    "\n",
    "x='hello'\n",
    "print(x.index('l'))\n",
    "\n",
    "x = ['data science','full stack','data science']\n",
    "print(x.index('data science'))\n",
    "\n",
    "x = ['data science','full stack','data science']\n",
    "a,b,c = x\n",
    "print(b)\n",
    "\n",
    "x = [1,2,3]\n",
    "del(x[0])\n",
    "\n",
    "x = [1,2,3,4]\n",
    "x.append(5)\n",
    "print(x)\n",
    "\n",
    "x = [1,2,3,4]\n",
    "x.insert(1,0)\n",
    "print(x)\n",
    "\n",
    "x = [1,2,3,4]\n",
    "print(x.pop())\n",
    "print(x)\n",
    "\n",
    "x = [1,2,3]\n",
    "x.remove(1)\n",
    "print(x)\n",
    "\n",
    "x = [1,2,3]\n",
    "x.reverse()\n",
    "print(x)\n",
    "\n",
    "x = [8,7,3]\n",
    "x.sort()\n",
    "print(x)\n",
    "\n",
    "## Tuples\n",
    "\n",
    "#x = (1,2,3,4)\n",
    "#del(x[1])\n",
    "\n",
    "#x = (1,2,3,4)\n",
    "#x.insert(1,8)\n",
    "\n",
    "x = ([1,2],3)\n",
    "del(x[0][1]) \n",
    "print(x)\n",
    "\n",
    "##Sets\n",
    "\n",
    "x = {3,2,3,2}\n",
    "print(x)\n",
    "\n",
    "x={1,2}\n",
    "x.add(3)\n",
    "print(x)\n",
    "len(x)\n",
    "\n",
    "x={1,2,3}\n",
    "x.pop()\n",
    "print(x)\n",
    "\n",
    "x.clear()\n",
    "print(x)\n",
    "\n",
    "{1,2} & {2,3}\n",
    "\n",
    "##Dictionary\n",
    "\n",
    "x = {'Suresh':8.99, 'Mahesh':8.23, 'Ramesh':7.77 }\n",
    "x['Suresh']=9\n",
    "print(x)\n",
    "\n",
    "del x['Suresh']\n",
    "\n",
    "len(x)\n",
    "\n",
    "print('Mahesh'in x)\n",
    "\n",
    "x.clear()\n",
    "print(x)\n",
    "\n",
    "del(x)\n",
    "\n",
    "x = {'Suresh':8.99, 'Mahesh':8.23, 'Ramesh':7.77 }\n",
    "x.keys()\n",
    "x.values()\n",
    "x.items()\n",
    "\n",
    "x.update({'Jayesh':8})\n"
   ]
  },
  {
   "cell_type": "code",
   "execution_count": null,
   "id": "c78f228b",
   "metadata": {},
   "outputs": [],
   "source": [
    "#string\n",
    "x = 'python'\n",
    "print('y' in x)\n",
    "\n",
    "#list\n",
    "x = ['Hi', 'How', 'Are' 'You']\n",
    "print('Hi' not in x)"
   ]
  }
 ],
 "metadata": {
  "kernelspec": {
   "display_name": "Python 3 (ipykernel)",
   "language": "python",
   "name": "python3"
  },
  "language_info": {
   "codemirror_mode": {
    "name": "ipython",
    "version": 3
   },
   "file_extension": ".py",
   "mimetype": "text/x-python",
   "name": "python",
   "nbconvert_exporter": "python",
   "pygments_lexer": "ipython3",
   "version": "3.9.13"
  }
 },
 "nbformat": 4,
 "nbformat_minor": 5
}
